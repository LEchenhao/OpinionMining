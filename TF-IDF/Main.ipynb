{
 "cells": [
  {
   "cell_type": "code",
   "execution_count": 1,
   "metadata": {},
   "outputs": [
    {
     "ename": "AttributeError",
     "evalue": "'module' object has no attribute 'loadLabeled'",
     "output_type": "error",
     "traceback": [
      "\u001b[0;31m---------------------------------------------------------------------------\u001b[0m",
      "\u001b[0;31mAttributeError\u001b[0m                            Traceback (most recent call last)",
      "\u001b[0;32m<ipython-input-1-32fcda5789e9>\u001b[0m in \u001b[0;36m<module>\u001b[0;34m()\u001b[0m\n\u001b[1;32m     17\u001b[0m \u001b[0mget_ipython\u001b[0m\u001b[0;34m(\u001b[0m\u001b[0;34m)\u001b[0m\u001b[0;34m.\u001b[0m\u001b[0mmagic\u001b[0m\u001b[0;34m(\u001b[0m\u001b[0;34mu'matplotlib inline'\u001b[0m\u001b[0;34m)\u001b[0m\u001b[0;34m\u001b[0m\u001b[0m\n\u001b[1;32m     18\u001b[0m \u001b[0;34m\u001b[0m\u001b[0m\n\u001b[0;32m---> 19\u001b[0;31m \u001b[0mdata\u001b[0m\u001b[0;34m,\u001b[0m \u001b[0mY\u001b[0m \u001b[0;34m=\u001b[0m \u001b[0mlF\u001b[0m\u001b[0;34m.\u001b[0m\u001b[0mloadLabeled\u001b[0m\u001b[0;34m(\u001b[0m\u001b[0;34m\"./Data/train\"\u001b[0m\u001b[0;34m)\u001b[0m\u001b[0;34m\u001b[0m\u001b[0m\n\u001b[0m\u001b[1;32m     20\u001b[0m \u001b[0mstopwords\u001b[0m \u001b[0;34m=\u001b[0m \u001b[0mstopwords\u001b[0m\u001b[0;34m.\u001b[0m\u001b[0mwords\u001b[0m\u001b[0;34m(\u001b[0m\u001b[0;34m'english'\u001b[0m\u001b[0;34m)\u001b[0m\u001b[0;34m\u001b[0m\u001b[0m\n\u001b[1;32m     21\u001b[0m \u001b[0mstemmer\u001b[0m \u001b[0;34m=\u001b[0m \u001b[0mSnowballStemmer\u001b[0m\u001b[0;34m(\u001b[0m\u001b[0;34m\"english\"\u001b[0m\u001b[0;34m)\u001b[0m\u001b[0;34m\u001b[0m\u001b[0m\n",
      "\u001b[0;31mAttributeError\u001b[0m: 'module' object has no attribute 'loadLabeled'"
     ]
    }
   ],
   "source": [
    "import matplotlib.pyplot as plt\n",
    "import LoadFiles as lF\n",
    "import numpy as np\n",
    "import nltk\n",
    "from nltk.stem.porter import *\n",
    "import string\n",
    "from sklearn.feature_extraction.text import TfidfVectorizer\n",
    "from sklearn.naive_bayes import BernoulliNB\n",
    "from sklearn.ensemble import RandomForestClassifier\n",
    "from sklearn.linear_model import LogisticRegression\n",
    "from sklearn import cross_validation\n",
    "from sklearn.metrics import classification_report\n",
    "from sklearn.metrics import accuracy_score\n",
    "from sklearn.metrics import roc_curve, auc\n",
    "from nltk.corpus import stopwords\n",
    "from nltk.stem.snowball import SnowballStemmer\n",
    "%matplotlib inline\n",
    "\n",
    "data, Y = lF.loadLabeled(\"./Data/train\")\n",
    "stopwords = stopwords.words('english')\n",
    "stemmer = SnowballStemmer(\"english\")"
   ]
  },
  {
   "cell_type": "code",
   "execution_count": null,
   "metadata": {},
   "outputs": [],
   "source": [
    "print stopwords"
   ]
  },
  {
   "cell_type": "code",
   "execution_count": 201,
   "metadata": {},
   "outputs": [],
   "source": [
    "words = ['br',\"n't\",\"''\",\"```\",\"'s\",\"...\",\"``\",\"'ll\"]\n",
    "                                   \n",
    "# For each document in the dataset, do the preprocessing\n",
    "for doc_id, text in enumerate(data):\n",
    "    \n",
    "    #On decode un peu le bordel\n",
    "    doc = nltk.word_tokenize(text.decode('utf-8').lower())\n",
    "\n",
    "    #On enlève la ponctuation\n",
    "    punctuation = set(string.punctuation)\n",
    "    doc = [w for w in doc if w not in punctuation]\n",
    "    \n",
    "    #On enlève les stopwords\n",
    "    doc = [w for w in doc if w not in stopwords]\n",
    "    doc = [w for w in doc if w not in words]\n",
    "    \n",
    "    s = \" \";\n",
    "    doc = s.join(doc)\n",
    "    #On stemme un peu tout ça\n",
    "    #doc = [stemmer.stem(w) for w in doc]\n",
    "    data[doc_id]=doc"
   ]
  },
  {
   "cell_type": "code",
   "execution_count": 202,
   "metadata": {},
   "outputs": [
    {
     "name": "stdout",
     "output_type": "stream",
     "text": [
      "Size of TF-IDF matrix:  (602, 11864)\n",
      "Sparsity of the TF_IDF matrix:  0.00799411603937\n"
     ]
    }
   ],
   "source": [
    "m = TfidfVectorizer()\n",
    "tfidf_matrix = m.fit_transform(data)\n",
    "tfidf_matrix = tfidf_matrix.toarray() \n",
    "print \"Size of TF-IDF matrix: \", tfidf_matrix.shape    \n",
    "print \"Sparsity of the TF_IDF matrix: \", float(np.count_nonzero(tfidf_matrix)) / (tfidf_matrix.shape[0] * tfidf_matrix.shape[1])"
   ]
  },
  {
   "cell_type": "code",
   "execution_count": 203,
   "metadata": {},
   "outputs": [
    {
     "name": "stdout",
     "output_type": "stream",
     "text": [
      "             precision    recall  f1-score   support\n",
      "\n",
      "        0.0       0.74      0.96      0.83        81\n",
      "        1.0       0.96      0.72      0.82       100\n",
      "\n",
      "avg / total       0.86      0.83      0.83       181\n",
      "\n",
      "The accuracy score is 82.87%\n",
      "Area under the ROC curve : 0.943457\n"
     ]
    },
    {
     "data": {
      "image/png": "[encoded data removed]"
     },
     "output_type": "display_data",
     "metadata": {}
    }
   ],
   "source": [
    "# On test sur 40 %\n",
    "data_train, data_test, labels_train, labels_test = cross_validation.train_test_split(\\\n",
    "        tfidf_matrix, Y, test_size=0.3, random_state=42)\n",
    "\n",
    "#Classifier : Bernoulli :\n",
    "\n",
    "clf = LogisticRegression().fit(data_train,labels_train)\n",
    "y_score = clf.fit(data_train, labels_train).predict_proba(data_test)\n",
    "labels_predicted = clf.predict(data_test)   \n",
    "       \n",
    "# Evaluation of the prediction\n",
    "print classification_report(labels_test, labels_predicted)\n",
    "print \"The accuracy score is {:.2%}\".format(accuracy_score(labels_test, labels_predicted))\n",
    "    \n",
    "# Compute ROC curve and area under the curve\n",
    "fpr, tpr, thresholds = roc_curve(labels_test, y_score[:, 1])\n",
    "roc_auc = auc(fpr, tpr)\n",
    "print \"Area under the ROC curve : %f\" % roc_auc\n",
    "    \n",
    "# Plot ROC curve\n",
    "plt.clf()\n",
    "plt.plot(fpr, tpr, label='ROC curve (area = %0.2f)' % roc_auc)\n",
    "plt.plot([0, 1], [0, 1], 'k--')\n",
    "plt.xlim([0.0, 1.0])\n",
    "plt.ylim([0.0, 1.0])\n",
    "plt.xlabel('False Positive Rate')\n",
    "plt.ylabel('True Positive Rate')\n",
    "plt.title('Receiver operating characteristic example')\n",
    "plt.legend(loc=\"lower right\")\n",
    "plt.show()"
   ]
  },
  {
   "cell_type": "code",
   "execution_count": null,
   "metadata": {},
   "outputs": [],
   "source": [
    ""
   ]
  }
 ],
 "metadata": {
  "kernelspec": {
   "display_name": "Python 2",
   "language": "python",
   "name": "python2"
  },
  "language_info": {
   "codemirror_mode": {
    "name": "ipython",
    "version": 2.0
   },
   "file_extension": ".py",
   "mimetype": "text/x-python",
   "name": "python",
   "nbconvert_exporter": "python",
   "pygments_lexer": "ipython2",
   "version": "2.7.10"
  }
 },
 "nbformat": 4,
 "nbformat_minor": 0
}